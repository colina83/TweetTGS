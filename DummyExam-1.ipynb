{
 "cells": [
  {
   "cell_type": "markdown",
   "metadata": {
    "deletable": false,
    "editable": false
   },
   "source": [
    "# Exam - Programming in Python\n",
    "Hi and welcome to the exam for programming in Python.\n",
    "\n",
    "You have 24 hours to answer all the questions and upload your solution to [Canvas](https://mannheim.instructure.com).\n",
    "\n",
    "You may use:\n",
    "- any library you prefer (not necessarily the ones which were presented in the course)\n",
    "- all materials that we have provided you during the course\n",
    "- the whole internet (especially documentation of libraries and sites like stackoverflow may give you useful hints)\n",
    "to answer the questions.\n",
    "\n",
    "You are not allowed to communicate with anyone of your class or get direct help from someone else to solve the exam.\n",
    "\n",
    "Most of the questions require you to implement something in Python but there are also some questions for which you do not need to write any code. Have a look at the corresponding task to find out what exactly is required."
   ]
  },
  {
   "cell_type": "markdown",
   "metadata": {
    "deletable": false,
    "editable": false
   },
   "source": [
    "## Setup of the exam\n",
    "\n",
    "In the following are a few hints such that your intermediate results are not lost unexpectedly. \n",
    "\n",
    "#### Saving feature\n",
    "\n",
    "The next cell will set the autosave feature to every minute. Please execute it every time you open this notebook.\n",
    "You can also click the save button from time to time to make sure that the current status of the notebook is saved."
   ]
  },
  {
   "cell_type": "code",
   "execution_count": 1,
   "metadata": {
    "deletable": false
   },
   "outputs": [
    {
     "data": {
      "application/javascript": [
       "IPython.notebook.set_autosave_interval(60000)"
      ]
     },
     "metadata": {},
     "output_type": "display_data"
    },
    {
     "name": "stdout",
     "output_type": "stream",
     "text": [
      "Autosaving every 60 seconds\n"
     ]
    }
   ],
   "source": [
    "# number of seconds between each autosave\n",
    "%autosave 60 "
   ]
  },
  {
   "cell_type": "markdown",
   "metadata": {
    "deletable": false,
    "editable": false
   },
   "source": [
    "#### Save intermediate results\n",
    "At some points in the exam, we provide cells which notify you to save intermediate results.\n",
    "The reason is to make sure no data is lost in case something goes wrong (accidentally deleting some cells, deleting the notebook, etc.).\n",
    "\n",
    "If you see cells like the one below, please click on **File** in the jupyter notebook menu at the top and then click the button **Save as...**. We provide you with the corresponding name you should choose.\n",
    "\n",
    "After executing this command, your active notebook should be named like the new (provided) name and all your variables should still be accessible.\n",
    "\n",
    "Of course you can use different names/paths than the one indiciated in the cell (especially if you solve the exam not in the given order). Just take these cells as reminders to backup your notebooks from time to time."
   ]
  },
  {
   "cell_type": "markdown",
   "metadata": {
    "deletable": false,
    "editable": false
   },
   "source": [
    "<span style=\"color:red\">Save your results now by clicking *File* > *Save as...* (Name/Path: **Exam-One**) </span>"
   ]
  },
  {
   "cell_type": "markdown",
   "metadata": {
    "deletable": false,
    "editable": false
   },
   "source": [
    "#### Answer cells\n",
    "The cells which contain the tasks are unmodifiable and cannot be deleted.\n",
    "\n",
    "Further, we provide cells in which you can type your answer. Those can be modified but **not** deleted.\n",
    "\n",
    "In case you need more cells to answer the questions, feel free to create as many as you need."
   ]
  },
  {
   "cell_type": "markdown",
   "metadata": {},
   "source": [
    "#### Base Setup for the Exam\n",
    "With the two cells below you can make sure that you have all libraries installed that you will need for this exam."
   ]
  },
  {
   "cell_type": "code",
   "execution_count": null,
   "metadata": {},
   "outputs": [],
   "source": [
    "!pip install -U pandas matplotlib scipy scikit-learn scrapy nltk pytest seaborn bs4"
   ]
  },
  {
   "cell_type": "code",
   "execution_count": null,
   "metadata": {},
   "outputs": [],
   "source": [
    "import pandas\n",
    "import matplotlib\n",
    "import scipy\n",
    "import sklearn\n",
    "import scrapy\n",
    "import nltk\n",
    "import pytest\n",
    "import seaborn\n",
    "import bs4\n",
    "\n",
    "nltk.download('punkt')"
   ]
  },
  {
   "cell_type": "markdown",
   "metadata": {
    "deletable": false,
    "editable": false
   },
   "source": [
    "#### Further libraries\n",
    "\n",
    "As already mentioned, you are free to choose any libraries you like.\n",
    "In case something does not work as expected, check that you have the most recent version of the library.\n",
    "\n",
    "You can install or update libraries with a command like the following:"
   ]
  },
  {
   "cell_type": "code",
   "execution_count": null,
   "metadata": {
    "deletable": false
   },
   "outputs": [],
   "source": [
    "# !pip install -U <library_name>\n",
    "# remove the '#' sign in case you want to update any of the libraries"
   ]
  },
  {
   "cell_type": "markdown",
   "metadata": {
    "deletable": false,
    "editable": false
   },
   "source": [
    "#### Contact information\n",
    "In case you have any questions due to, for example, ambiguous exam tasks, you can contact us using the information below.\n",
    "\n",
    "In general, we do not answer any questions that relate directly to coding (e.g. \"why does my code snippet not work as expected?\", \"how do I implement ...?\"). In case you are stuck with a certain task, you should still be able to proceed with the next task without any problems.\n",
    "\n",
    "However, if you think that you've encountered any other kind of problem that keeps you from solving the tasks and that is not due to a (trivial) coding error or if you're unsure, don't hesitate to ask us for help. As a rule of thumb: rather ask one question to much than one too few. The worst thing that will happen is, that we answer with \"Sorry, but we don't answer questions that are related directly to coding\" ;-)\n",
    "\n",
    "For questions, please write a mail to both of us. If it helps describing the problem, you may add screenshots or the like.<br>\n",
    "Nico: nico@informatik.uni-mannheim.de<br>\n",
    "Sven: sven@informatik.uni-mannheim.de"
   ]
  },
  {
   "cell_type": "markdown",
   "metadata": {
    "deletable": false,
    "editable": false
   },
   "source": [
    "## Below are the tasks of the exam. Good luck!"
   ]
  },
  {
   "cell_type": "markdown",
   "metadata": {
    "deletable": false,
    "editable": false
   },
   "source": [
    "## Task 1 - Data Loading (5 points total)\n",
    "\n",
    "In this task the dataset in file `iris.csv` should be loaded.\n",
    "\n",
    "##### Task 1.1 (2 points)\n",
    "\n",
    "What function of the pandas library would you use to load the data?"
   ]
  },
  {
   "cell_type": "markdown",
   "metadata": {
    "deletable": false
   },
   "source": [
    "**TODO: answer the question here**\n"
   ]
  },
  {
   "cell_type": "markdown",
   "metadata": {
    "deletable": false,
    "editable": false
   },
   "source": [
    "##### Task 1.2 (3 points)\n",
    "\n",
    "Use this function to load the dataset with pandas and print the first 5 rows."
   ]
  },
  {
   "cell_type": "code",
   "execution_count": null,
   "metadata": {
    "deletable": false
   },
   "outputs": [],
   "source": [
    "# TODO: load the dataset and print the first 5 rows\n",
    "\n",
    "\n",
    "\n"
   ]
  },
  {
   "cell_type": "markdown",
   "metadata": {
    "deletable": false,
    "editable": false
   },
   "source": [
    "<span style=\"color:red\">Save your results now by clicking *File* > *Save as...* (Name/Path: **Exam-One**) </span>"
   ]
  },
  {
   "cell_type": "markdown",
   "metadata": {
    "deletable": false,
    "editable": false
   },
   "source": [
    "## Submission of the exam\n",
    "<span style=\"color:red\">If you want to submit the exam, first make a final save using the name **Exam-Final**.</span>\n",
    "\n",
    "Please upload at least the file named **Exam-Final** to Canvas, but you are free to upload all files starting with **Exam** to make sure nothing gets lost. For the final file, please upload the notebook (extension `ipynb`) and a HTML version. You can create the HTML version by clicking on `File -> Download as -> HTML`."
   ]
  }
 ],
 "metadata": {
  "celltoolbar": "Edit Metadata",
  "kernelspec": {
   "display_name": "Python 3 (ipykernel)",
   "language": "python",
   "name": "python3"
  },
  "language_info": {
   "codemirror_mode": {
    "name": "ipython",
    "version": 3
   },
   "file_extension": ".py",
   "mimetype": "text/x-python",
   "name": "python",
   "nbconvert_exporter": "python",
   "pygments_lexer": "ipython3",
   "version": "3.9.7"
  },
  "varInspector": {
   "cols": {
    "lenName": 16,
    "lenType": 16,
    "lenVar": 40
   },
   "kernels_config": {
    "python": {
     "delete_cmd_postfix": "",
     "delete_cmd_prefix": "del ",
     "library": "var_list.py",
     "varRefreshCmd": "print(var_dic_list())"
    },
    "r": {
     "delete_cmd_postfix": ") ",
     "delete_cmd_prefix": "rm(",
     "library": "var_list.r",
     "varRefreshCmd": "cat(var_dic_list()) "
    }
   },
   "types_to_exclude": [
    "module",
    "function",
    "builtin_function_or_method",
    "instance",
    "_Feature"
   ],
   "window_display": false
  }
 },
 "nbformat": 4,
 "nbformat_minor": 4
}
