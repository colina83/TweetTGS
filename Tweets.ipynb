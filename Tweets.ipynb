{
 "cells": [
  {
   "cell_type": "code",
   "execution_count": 1,
   "metadata": {},
   "outputs": [],
   "source": [
    "import pandas as pd\n",
    "from tqdm.notebook import tqdm\n",
    "import snscrape.modules.twitter as sntwitter"
   ]
  },
  {
   "cell_type": "code",
   "execution_count": 2,
   "metadata": {},
   "outputs": [],
   "source": [
    "scraper = sntwitter.TwitterProfileScraper(\"TGScompany\")"
   ]
  },
  {
   "cell_type": "code",
   "execution_count": 15,
   "metadata": {},
   "outputs": [
    {
     "name": "stderr",
     "output_type": "stream",
     "text": [
      "/tmp/ipykernel_5306/446838370.py:7: FutureWarning: content is deprecated, use rawContent instead\n",
      "  tweet.content,\n",
      "/tmp/ipykernel_5306/446838370.py:12: FutureWarning: tcooutlinks is deprecated, use links (tcourl attribute) instead\n",
      "  tweet.tcooutlinks,\n"
     ]
    }
   ],
   "source": [
    "tweets = []\n",
    "\n",
    "for i,tweet in enumerate(scraper.get_items()):\n",
    "    data = [\n",
    "        tweet.date,\n",
    "        tweet.id,\n",
    "        tweet.content,\n",
    "        tweet.user.username,\n",
    "        tweet.likeCount,\n",
    "        tweet.retweetCount,\n",
    "        tweet.replyCount,\n",
    "        tweet.tcooutlinks,\n",
    "        tweet.retweetedTweet,\n",
    "        tweet.quotedTweet,\n",
    "        tweet.mentionedUsers,\n",
    "        tweet.quoteCount\n",
    "        ]\n",
    "    tweets.append(data)\n",
    "    if i > 3000:\n",
    "        break"
   ]
  },
  {
   "cell_type": "code",
   "execution_count": 16,
   "metadata": {},
   "outputs": [],
   "source": [
    "df_tweet = pd.DataFrame(tweets, columns=[\"date\",\"id\",\n",
    "                        \"content\",\"username\",\"like_count\",\n",
    "                        \"retweet_count\",\"reply_count\",\"tweeter_link\",\n",
    "                        \"retweeted_tweet\",\"quotedTweet\",\"mentioned_user\",\"number_of_quotes\"])"
   ]
  },
  {
   "cell_type": "code",
   "execution_count": 18,
   "metadata": {},
   "outputs": [
    {
     "data": {
      "text/plain": [
       "78"
      ]
     },
     "execution_count": 18,
     "metadata": {},
     "output_type": "execute_result"
    }
   ],
   "source": []
  }
 ],
 "metadata": {
  "kernelspec": {
   "display_name": "Python 3",
   "language": "python",
   "name": "python3"
  },
  "language_info": {
   "codemirror_mode": {
    "name": "ipython",
    "version": 3
   },
   "file_extension": ".py",
   "mimetype": "text/x-python",
   "name": "python",
   "nbconvert_exporter": "python",
   "pygments_lexer": "ipython3",
   "version": "3.10.4"
  },
  "orig_nbformat": 4,
  "vscode": {
   "interpreter": {
    "hash": "3ad933181bd8a04b432d3370b9dc3b0662ad032c4dfaa4e4f1596c548f763858"
   }
  }
 },
 "nbformat": 4,
 "nbformat_minor": 2
}
